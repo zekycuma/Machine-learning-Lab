{
 "cells": [
  {
   "cell_type": "markdown",
   "id": "46fe7aa0-a7bd-4780-9062-bbd4c8cb41c9",
   "metadata": {},
   "source": [
    "**NUMPY BASİCS**"
   ]
  },
  {
   "cell_type": "code",
   "execution_count": null,
   "id": "01fcf75e-4faf-48a0-a0c8-393282ddbb19",
   "metadata": {},
   "outputs": [],
   "source": [
    "import numpy as np"
   ]
  },
  {
   "cell_type": "code",
   "execution_count": null,
   "id": "1bb1ddd7-c298-43a1-9f30-7b806deefbee",
   "metadata": {},
   "outputs": [],
   "source": [
    "array2=np.array([1,2,3,4,5,6,7,8,9,10,11,12,13,14,15])\n",
    "print(\"Vector:\",array2)\n",
    "a=array2.reshape(3,5)\n",
    "print(\"Two dimensional array:\",a)"
   ]
  },
  {
   "cell_type": "code",
   "execution_count": null,
   "id": "401f78e8-3661-42e1-8a2b-353746e98178",
   "metadata": {},
   "outputs": [],
   "source": [
    "print(\"shape:\",a.shape)\n",
    "print(\"dimension:\",a.ndim)\n",
    "print(\"data type:\",a.dtype.name)\n",
    "print(\"size:\",a.size)\n",
    "print(\"type:\",type(a))"
   ]
  },
  {
   "cell_type": "code",
   "execution_count": null,
   "id": "6aeef3c2-ed36-423a-8ce4-1d32cb301cc1",
   "metadata": {},
   "outputs": [],
   "source": [
    "x=np.array([1,2,3])\n",
    "y=np.array([4,5,6])\n",
    "print(x+y)\n",
    "print(x-y)\n",
    "print(x**2)"
   ]
  },
  {
   "cell_type": "code",
   "execution_count": null,
   "id": "06943f3b-e070-49aa-9de2-b0eafe08d2dc",
   "metadata": {},
   "outputs": [],
   "source": [
    "a=np.array([1,2,3])\n",
    "d=a.copy()\n",
    "print(d)\n",
    "b=a\n",
    "c=a\n",
    "b[0]=5\n",
    "print(a,b,c)"
   ]
  },
  {
   "cell_type": "code",
   "execution_count": null,
   "id": "31436221-e214-4e8c-bc6c-0bf2f32d8bbb",
   "metadata": {},
   "outputs": [],
   "source": [
    "a=np.array([1,2,3,4,5,6,7])\n",
    "print(a[0])\n",
    "print(a[0:4])"
   ]
  },
  {
   "cell_type": "code",
   "execution_count": null,
   "id": "a9855ede-30a8-47ae-b84d-5a1b442e456d",
   "metadata": {},
   "outputs": [],
   "source": [
    "reverse_array=a[::-1]\n",
    "print(reverse_array)"
   ]
  },
  {
   "cell_type": "code",
   "execution_count": null,
   "id": "e9d73160-3de6-4af8-ae46-06d18285ea41",
   "metadata": {},
   "outputs": [],
   "source": [
    "b=np.array([[1,2,3,4,5],[6,7,8,9,10]])\n",
    "print(b)\n",
    "print(b[1,1])\n",
    "print(b[:,1])\n",
    "print(b[1,:])\n",
    "print(b[1,1:4])\n",
    "print(b[-1,:])\n",
    "print(b[:,-1])"
   ]
  },
  {
   "cell_type": "markdown",
   "id": "59c666b4-225d-4b2d-9e4a-8dd5ec04bf95",
   "metadata": {},
   "source": [
    "**MATPLOTLIB BASICS**"
   ]
  },
  {
   "cell_type": "code",
   "execution_count": null,
   "id": "6d971a92-38df-4b4d-bb41-80ac56a4ad4f",
   "metadata": {},
   "outputs": [],
   "source": [
    "import matplotlib.pyplot as plt\n",
    "import numpy as np\n",
    "data = np.random.randn(1000)\n",
    "\n",
    "plt.hist(data,bins=30)\n",
    "plt.title(\"histogram\")\n",
    "plt.xlabel(\"Values\")\n",
    "plt.ylabel(\"Frequencies\")\n",
    "plt.show()\n"
   ]
  },
  {
   "cell_type": "code",
   "execution_count": null,
   "id": "bd6573fc-2667-4060-a139-dfd086e210ec",
   "metadata": {},
   "outputs": [],
   "source": [
    "sizes=[30,25,15,10,5,5]\n",
    "plt.pie(sizes)\n",
    "plt.title(\"Pie Chart\")\n",
    "plt.show()\n"
   ]
  }
 ],
 "metadata": {
  "kernelspec": {
   "display_name": "Python 3 (ipykernel)",
   "language": "python",
   "name": "python3"
  },
  "language_info": {
   "codemirror_mode": {
    "name": "ipython",
    "version": 3
   },
   "file_extension": ".py",
   "mimetype": "text/x-python",
   "name": "python",
   "nbconvert_exporter": "python",
   "pygments_lexer": "ipython3",
   "version": "3.11.7"
  }
 },
 "nbformat": 4,
 "nbformat_minor": 5
}
