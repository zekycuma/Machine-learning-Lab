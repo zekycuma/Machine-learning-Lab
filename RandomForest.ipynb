{
 "cells": [
  {
   "cell_type": "code",
   "execution_count": null,
   "id": "bc5df37d-ac80-4282-a42e-84f4d71f2197",
   "metadata": {},
   "outputs": [],
   "source": [
    "import pandas as pd\n",
    "import matplotlib.pyplot as plt\n",
    "import numpy as np\n",
    "import seaborn as sns "
   ]
  },
  {
   "cell_type": "code",
   "execution_count": null,
   "id": "cb0adf17-7129-45e6-86b3-b0fc0832cb9e",
   "metadata": {},
   "outputs": [],
   "source": [
    "data=pd.read_csv(\"/Users/betulsamanci/Desktop/data (7).csv\")"
   ]
  },
  {
   "cell_type": "code",
   "execution_count": null,
   "id": "b12f66f3-764c-48a7-a15e-93dcb5ff68d3",
   "metadata": {},
   "outputs": [],
   "source": [
    "data.info()"
   ]
  },
  {
   "cell_type": "code",
   "execution_count": null,
   "id": "86eae466-3511-4b9a-8f98-80ab45b06d41",
   "metadata": {},
   "outputs": [],
   "source": [
    "data.drop([\"id\",\"Unnamed: 32\"],axis=1,inplace=True)"
   ]
  },
  {
   "cell_type": "code",
   "execution_count": null,
   "id": "b472aa5e-99a6-40d3-bd05-7f38196986c1",
   "metadata": {},
   "outputs": [],
   "source": [
    "data.diagnosis=[1 if each==\"M\" else 0 for each in data.diagnosis]"
   ]
  },
  {
   "cell_type": "code",
   "execution_count": null,
   "id": "e1002799-679d-4b9a-bdb9-424c4e478a36",
   "metadata": {},
   "outputs": [],
   "source": [
    "y=data.diagnosis.values\n",
    "x_data=data.drop([\"diagnosis\"],axis=1)"
   ]
  },
  {
   "cell_type": "code",
   "execution_count": null,
   "id": "b4d3cd05-3fdf-4e52-ae38-9d2e1c9743ba",
   "metadata": {},
   "outputs": [],
   "source": [
    "x=(x_data-np.min(x_data))/(np.max(x_data)-np.min(x_data))"
   ]
  },
  {
   "cell_type": "code",
   "execution_count": null,
   "id": "8ee64719-16fe-46cf-8c88-b4ef880dc05b",
   "metadata": {},
   "outputs": [],
   "source": [
    "x"
   ]
  },
  {
   "cell_type": "code",
   "execution_count": null,
   "id": "3f85c5d6-d52d-40c3-bcb4-bd9964c4b3c3",
   "metadata": {},
   "outputs": [],
   "source": [
    "from sklearn.model_selection import train_test_split\n",
    "x_train,x_test,y_train,y_test=train_test_split(x,y,test_size=0.15,random_state=42)"
   ]
  },
  {
   "cell_type": "code",
   "execution_count": null,
   "id": "33ffd52a-1ddd-4d71-8563-48016e6b7c89",
   "metadata": {},
   "outputs": [],
   "source": [
    "from sklearn.tree import DecisionTreeClassifier\n",
    "dt = DecisionTreeClassifier()\n",
    "dt.fit(x_train,y_train)\n",
    "print(\"Decision Tree Score: \" ,dt.score(x_test,y_test))"
   ]
  },
  {
   "cell_type": "code",
   "execution_count": null,
   "id": "908f2e85-07d3-428c-8f3f-dda4abc46057",
   "metadata": {},
   "outputs": [],
   "source": [
    "from sklearn.ensemble import RandomForestClassifier\n",
    "rf=RandomForestClassifier(n_estimators=100,random_state=1)\n",
    "rf.fit(x_train,y_train)\n",
    "y_pred=rf.predict(x_test)"
   ]
  },
  {
   "cell_type": "code",
   "execution_count": null,
   "id": "90d050b3-f051-4ad8-80d7-dc01007e0bf5",
   "metadata": {},
   "outputs": [],
   "source": [
    "print(\"Random Forest Algorithm result:\",rf.score(x_test,y_test))"
   ]
  }
 ],
 "metadata": {
  "kernelspec": {
   "display_name": "Python 3 (ipykernel)",
   "language": "python",
   "name": "python3"
  },
  "language_info": {
   "codemirror_mode": {
    "name": "ipython",
    "version": 3
   },
   "file_extension": ".py",
   "mimetype": "text/x-python",
   "name": "python",
   "nbconvert_exporter": "python",
   "pygments_lexer": "ipython3",
   "version": "3.11.8"
  }
 },
 "nbformat": 4,
 "nbformat_minor": 5
}
